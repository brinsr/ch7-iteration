{
 "cells": [
  {
   "cell_type": "markdown",
   "metadata": {},
   "source": [
    "# Exercise 2\n",
    "Add the specified code for each code cell, running the cells _in order_."
   ]
  },
  {
   "cell_type": "markdown",
   "metadata": {},
   "source": [
    "Write a **`for`** loop that prints out every 5th number (multiples of 5) from 0 to 100 (inclusive).\n",
    "- _Tip:_ use an **`end=','`** keyword argument to the `print()` function to print all the numbers on the same line."
   ]
  },
  {
   "cell_type": "code",
   "execution_count": 8,
   "metadata": {},
   "outputs": [
    {
     "name": "stdout",
     "output_type": "stream",
     "text": [
      "0,5,10,15,20,25,30,35,40,45,50,55,60,65,70,75,80,85,90,95,100,"
     ]
    }
   ],
   "source": [
    "i = 0\n",
    "for i in range(0,101,5):\n",
    "    print(i,end=',')"
   ]
  },
  {
   "cell_type": "markdown",
   "metadata": {},
   "source": [
    "Use a **`for`** loop to print out the first 15 [Triangular numbers](https://en.wikipedia.org/wiki/Triangular_number). This is a sequence of numbers for which the _nth_ value is the sum of the numbers from 0 to _n_. **Do this only using addition!**\n",
    "- _Hint:_ use an additional variable to keep track of the `total` value, and have that value increase by the number of times you've been through the loop each iteration!"
   ]
  },
  {
   "cell_type": "code",
   "execution_count": null,
   "metadata": {},
   "outputs": [],
   "source": [
    "total = 0\n",
    "for i in range(0,15):\n",
    "    total = total + i\n",
    "    print(total,end = ',')"
   ]
  },
  {
   "cell_type": "markdown",
   "metadata": {},
   "source": [
    "_Challenge_ Use a **`for`** loop to print out 20 numbers, each of which is larger than the previous by the the _sum_ of the **two** previous numbers (the [Fibonacci sequence](https://en.wikipedia.org/wiki/Fibonacci_number).\n",
    "- _Hint_: you'll need to keep track of the two previous values (start them at 0 and 1), and then \"update\" them each time through the loop, storing the  \"new total\" in the first previous variable, and the first previous variable in the second (be careful about the ordering of this!) "
   ]
  },
  {
   "cell_type": "code",
   "execution_count": 1,
   "metadata": {},
   "outputs": [
    {
     "name": "stdout",
     "output_type": "stream",
     "text": [
      "1,1,2,3,5,8,13,21,34,55,89,144,233,377,610,987,1597,2584,4181,6765,"
     ]
    }
   ],
   "source": [
    "first = 1\n",
    "print(first,end=',')\n",
    "second = 1\n",
    "print(second,end=',')\n",
    "for i in range(1,19):\n",
    "    total = first + second\n",
    "    print(total,end=',')\n",
    "    first = second\n",
    "    second = total"
   ]
  },
  {
   "cell_type": "markdown",
   "metadata": {},
   "source": [
    "Define a function **`is_prime()`** that takes in a whole number as an argument and returns whether or not that number is prime (divisible by only 1 and itself).\n",
    "- You can check divisibility by seeing if the remainder (using the modulo **`%`** operator) is 0, or by comparing the integer of the quotient to the float of the quotient.\n",
    "- Be careful to only `return` that a value is in fact prime after you've checked **all** the factors!"
   ]
  },
  {
   "cell_type": "code",
   "execution_count": 5,
   "metadata": {},
   "outputs": [],
   "source": [
    "def is_prime(number):\n",
    "    divide_by = 2\n",
    "    num_prime = True\n",
    "    while (divide_by <= number):\n",
    "        if((number % divide_by) == 0):\n",
    "            num_prime = False\n",
    "            return (num_prime)\n",
    "        divide_by = divide_by + 1\n",
    "    return num_prime \n",
    "\n"
   ]
  },
  {
   "cell_type": "markdown",
   "metadata": {},
   "source": [
    "Define a function **`find_primes()`** that takes in a whole number and _prints out_ all of the prime numbers that are less than or equal to the parameter. Call the function to print out the prime numbers up to 101.\n",
    "- Make sure to your `is_prime()` function!"
   ]
  },
  {
   "cell_type": "code",
   "execution_count": 11,
   "metadata": {},
   "outputs": [
    {
     "data": {
      "text/plain": [
       "False"
      ]
     },
     "execution_count": 11,
     "metadata": {},
     "output_type": "execute_result"
    }
   ],
   "source": [
    "def find_primes(number):\n",
    "    for i in range(2,number+1):\n",
    "        if(is_prime(i)):\n",
    "            print(i,end=',')\n",
    "find_primes(100)"
   ]
  },
  {
   "cell_type": "markdown",
   "metadata": {},
   "source": [
    "As discussed in the course text, `for` loops can be used to iterate over collections of data such as files. But it is also possible to convert a **`string`** into a collection (technically a _list_) of ___words___ by calling the [split()](https://docs.python.org/3.6/library/stdtypes.html#str.split) method on that string.\n",
    "\n",
    "Create a variable `quote` containing a quote from someone you admire. Then create a variable **`words`** by calling the `split()` method on the quote."
   ]
  },
  {
   "cell_type": "code",
   "execution_count": 12,
   "metadata": {},
   "outputs": [],
   "source": [
    "quote = \"Never give up!\"\n",
    "words = quote.split()"
   ]
  },
  {
   "cell_type": "markdown",
   "metadata": {},
   "source": [
    "Use a **`for`** loop to iterate through the words, printing out each one on a separate line."
   ]
  },
  {
   "cell_type": "code",
   "execution_count": 14,
   "metadata": {},
   "outputs": [
    {
     "name": "stdout",
     "output_type": "stream",
     "text": [
      "Never\n",
      "give\n",
      "up!\n"
     ]
    }
   ],
   "source": [
    "for i in words:\n",
    "    print (i)"
   ]
  },
  {
   "cell_type": "markdown",
   "metadata": {},
   "source": [
    "Use a **`for`** loop to determine the _percentage_ of words in the quote that have 4 or more letters."
   ]
  },
  {
   "cell_type": "code",
   "execution_count": 19,
   "metadata": {},
   "outputs": [
    {
     "name": "stdout",
     "output_type": "stream",
     "text": [
      "percentage of words that have 4 or more letters is 66.67\n"
     ]
    }
   ],
   "source": [
    "list_length = len(words)\n",
    "count = 0\n",
    "for i in words:\n",
    "    if(len(i) >= 4):\n",
    "        count = count + 1\n",
    "print(\"percentage of words that have 4 or more letters is \"+str(round(((count/list_length)*100),2)))        "
   ]
  },
  {
   "cell_type": "markdown",
   "metadata": {},
   "source": [
    "It's also possible to use a `for` loop to iterate through the _letters_ in a string!\n",
    "\n",
    "Create a variable `word` containing your favorite word. Iterate through the letters in the word, printing `\"Give me a __!\"` for each (replacing the `__` with the letter). Finally, print `\"What does that spell?!\"` followed by the word."
   ]
  },
  {
   "cell_type": "code",
   "execution_count": 20,
   "metadata": {},
   "outputs": [
    {
     "name": "stdout",
     "output_type": "stream",
     "text": [
      "Give me a W! \n",
      "Give me a o! \n",
      "Give me a n! \n",
      "Give me a d! \n",
      "Give me a e! \n",
      "Give me a r! \n",
      "Give me a f! \n",
      "Give me a u! \n",
      "Give me a l! \n",
      "What does that spell?!  Wonderful\n"
     ]
    }
   ],
   "source": [
    "word = \"Wonderful\"\n",
    "for i in word:\n",
    "    print(\"Give me a \"+i+ \"! \")\n",
    "print(\"What does that spell?!  \" +word )    \n"
   ]
  },
  {
   "cell_type": "code",
   "execution_count": null,
   "metadata": {},
   "outputs": [],
   "source": []
  }
 ],
 "metadata": {
  "kernelspec": {
   "display_name": "Python 3 (ipykernel)",
   "language": "python",
   "name": "python3"
  },
  "language_info": {
   "codemirror_mode": {
    "name": "ipython",
    "version": 3
   },
   "file_extension": ".py",
   "mimetype": "text/x-python",
   "name": "python",
   "nbconvert_exporter": "python",
   "pygments_lexer": "ipython3",
   "version": "3.9.7"
  },
  "toc": {
   "colors": {
    "hover_highlight": "#DAA520",
    "running_highlight": "#FF0000",
    "selected_highlight": "#FFD700"
   },
   "moveMenuLeft": true,
   "nav_menu": {
    "height": "30px",
    "width": "252px"
   },
   "navigate_menu": true,
   "number_sections": true,
   "sideBar": true,
   "threshold": 4,
   "toc_cell": false,
   "toc_section_display": "block",
   "toc_window_display": false,
   "widenNotebook": false
  }
 },
 "nbformat": 4,
 "nbformat_minor": 2
}
